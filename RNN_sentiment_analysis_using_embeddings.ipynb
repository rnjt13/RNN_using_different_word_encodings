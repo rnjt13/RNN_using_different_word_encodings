{
  "nbformat": 4,
  "nbformat_minor": 0,
  "metadata": {
    "colab": {
      "provenance": [],
      "toc_visible": true,
      "authorship_tag": "ABX9TyMN7yGaePqvgHyRSvF/8axJ",
      "include_colab_link": true
    },
    "kernelspec": {
      "name": "python3",
      "display_name": "Python 3"
    },
    "language_info": {
      "name": "python"
    }
  },
  "cells": [
    {
      "cell_type": "markdown",
      "metadata": {
        "id": "view-in-github",
        "colab_type": "text"
      },
      "source": [
        "<a href=\"https://colab.research.google.com/github/rnjt13/RNN_using_different_word_encodings/blob/main/RNN_sentiment_analysis_using_embeddings.ipynb\" target=\"_parent\"><img src=\"https://colab.research.google.com/assets/colab-badge.svg\" alt=\"Open In Colab\"/></a>"
      ]
    },
    {
      "cell_type": "code",
      "execution_count": 2,
      "metadata": {
        "id": "fuJcDlRL4d9w"
      },
      "outputs": [],
      "source": [
        "import pandas as pd\n",
        "import numpy as np"
      ]
    },
    {
      "cell_type": "code",
      "source": [
        "  # sample data to see how tokenization works\n",
        "  docs = ['go india',\n",
        "\t\t'india india',\n",
        "\t\t'hip hip hurray',\n",
        "\t\t'jeetega bhai jeetega india jeetega',\n",
        "\t\t'bharat mata ki jai',\n",
        "\t\t'kohli kohli',\n",
        "\t\t'sachin sachin',\n",
        "\t\t'dhoni dhoni',\n",
        "\t\t'modi ji ki jai',\n",
        "\t\t'inquilab zindabad']"
      ],
      "metadata": {
        "id": "f1Cppf3G4d95"
      },
      "execution_count": 27,
      "outputs": []
    },
    {
      "cell_type": "code",
      "source": [
        "# define out of vocabulary tokens as NA\n",
        "from keras.preprocessing.text import Tokenizer\n",
        "tokenizer = Tokenizer()"
      ],
      "metadata": {
        "id": "KlEAx_kH4d96"
      },
      "execution_count": 28,
      "outputs": []
    },
    {
      "cell_type": "code",
      "source": [
        "# convert words to token in docs\n",
        "tokenizer.fit_on_texts(docs)\n",
        "len(tokenizer.word_index)"
      ],
      "metadata": {
        "colab": {
          "base_uri": "https://localhost:8080/"
        },
        "outputId": "e1ca2b79-6eb8-43ff-c20a-2c12ea441788",
        "id": "xugyUL9x4d97"
      },
      "execution_count": 29,
      "outputs": [
        {
          "output_type": "execute_result",
          "data": {
            "text/plain": [
              "17"
            ]
          },
          "metadata": {},
          "execution_count": 29
        }
      ]
    },
    {
      "cell_type": "code",
      "source": [
        "# total words\n",
        "# len(tokenizer.word_index)"
      ],
      "metadata": {
        "id": "wbhEKcgU7JGZ"
      },
      "execution_count": 30,
      "outputs": []
    },
    {
      "cell_type": "code",
      "source": [
        "# check the frequency of words\n",
        "# tokenizer.word_counts"
      ],
      "metadata": {
        "id": "W3oLW4wI4d98"
      },
      "execution_count": 31,
      "outputs": []
    },
    {
      "cell_type": "code",
      "source": [
        "# count of no. of sentences\n",
        "# tokenizer.document_count"
      ],
      "metadata": {
        "id": "ljz6Xn8t4d98"
      },
      "execution_count": 32,
      "outputs": []
    },
    {
      "cell_type": "code",
      "source": [
        "# convert sequence of words to sequence of numbers in docs\n",
        "sequences = tokenizer.texts_to_sequences(docs)\n",
        "sequences"
      ],
      "metadata": {
        "colab": {
          "base_uri": "https://localhost:8080/"
        },
        "outputId": "9fe543b5-c834-45cf-a193-ee6cb93d0f0a",
        "id": "rizgjOTG4d98"
      },
      "execution_count": 33,
      "outputs": [
        {
          "output_type": "execute_result",
          "data": {
            "text/plain": [
              "[[9, 1],\n",
              " [1, 1],\n",
              " [3, 3, 10],\n",
              " [2, 11, 2, 1, 2],\n",
              " [12, 13, 4, 5],\n",
              " [6, 6],\n",
              " [7, 7],\n",
              " [8, 8],\n",
              " [14, 15, 4, 5],\n",
              " [16, 17]]"
            ]
          },
          "metadata": {},
          "execution_count": 33
        }
      ]
    },
    {
      "cell_type": "code",
      "source": [
        "# pad these seqeunces to a fixed max length\n",
        "from keras.utils import pad_sequences\n",
        "sequences = pad_sequences(sequences,padding='post')\n",
        "sequences"
      ],
      "metadata": {
        "colab": {
          "base_uri": "https://localhost:8080/"
        },
        "outputId": "c9297f3b-5fe5-42b0-8048-674bd4112dbe",
        "id": "WDFlsIjm4d99"
      },
      "execution_count": 34,
      "outputs": [
        {
          "output_type": "execute_result",
          "data": {
            "text/plain": [
              "array([[ 9,  1,  0,  0,  0],\n",
              "       [ 1,  1,  0,  0,  0],\n",
              "       [ 3,  3, 10,  0,  0],\n",
              "       [ 2, 11,  2,  1,  2],\n",
              "       [12, 13,  4,  5,  0],\n",
              "       [ 6,  6,  0,  0,  0],\n",
              "       [ 7,  7,  0,  0,  0],\n",
              "       [ 8,  8,  0,  0,  0],\n",
              "       [14, 15,  4,  5,  0],\n",
              "       [16, 17,  0,  0,  0]], dtype=int32)"
            ]
          },
          "metadata": {},
          "execution_count": 34
        }
      ]
    },
    {
      "cell_type": "code",
      "source": [
        "# Convert the padded sequences into embeddings and then use these embeddings as input to build a sentiment analysis model\n",
        "from keras import Sequential\n",
        "from keras.datasets import imdb\n",
        "from keras.layers import Dense,SimpleRNN,Flatten,Embedding"
      ],
      "metadata": {
        "id": "mdz38MKu6NEQ"
      },
      "execution_count": 35,
      "outputs": []
    },
    {
      "cell_type": "code",
      "source": [
        "model = Sequential()\n",
        "model.add(Embedding(18,output_dim=2,input_length=5))\n",
        "model.summary()"
      ],
      "metadata": {
        "colab": {
          "base_uri": "https://localhost:8080/"
        },
        "id": "XqUuy_Px4d99",
        "outputId": "9685b176-e437-4be9-ce71-d6774c7b100f"
      },
      "execution_count": 39,
      "outputs": [
        {
          "output_type": "stream",
          "name": "stdout",
          "text": [
            "Model: \"sequential_3\"\n",
            "_________________________________________________________________\n",
            " Layer (type)                Output Shape              Param #   \n",
            "=================================================================\n",
            " embedding_3 (Embedding)     (None, 5, 2)              36        \n",
            "                                                                 \n",
            "=================================================================\n",
            "Total params: 36 (144.00 Byte)\n",
            "Trainable params: 36 (144.00 Byte)\n",
            "Non-trainable params: 0 (0.00 Byte)\n",
            "_________________________________________________________________\n"
          ]
        }
      ]
    },
    {
      "cell_type": "code",
      "source": [
        "model.compile(optimizer='adam',metrics=['accuracy'])"
      ],
      "metadata": {
        "id": "Hj4Gq7Wm7lHR"
      },
      "execution_count": 40,
      "outputs": []
    },
    {
      "cell_type": "code",
      "source": [
        "pred = model.predict(sequences)\n",
        "print(pred)"
      ],
      "metadata": {
        "colab": {
          "base_uri": "https://localhost:8080/"
        },
        "id": "ca854H_97k0L",
        "outputId": "de6f8bda-cba2-4322-c12d-4255cfcf5967"
      },
      "execution_count": 41,
      "outputs": [
        {
          "output_type": "stream",
          "name": "stdout",
          "text": [
            "1/1 [==============================] - 0s 40ms/step\n",
            "[[[ 0.01673615  0.00349313]\n",
            "  [ 0.0254714   0.03154382]\n",
            "  [ 0.03531635 -0.01879068]\n",
            "  [ 0.03531635 -0.01879068]\n",
            "  [ 0.03531635 -0.01879068]]\n",
            "\n",
            " [[ 0.0254714   0.03154382]\n",
            "  [ 0.0254714   0.03154382]\n",
            "  [ 0.03531635 -0.01879068]\n",
            "  [ 0.03531635 -0.01879068]\n",
            "  [ 0.03531635 -0.01879068]]\n",
            "\n",
            " [[ 0.02487662 -0.03197522]\n",
            "  [ 0.02487662 -0.03197522]\n",
            "  [ 0.0097909   0.02685486]\n",
            "  [ 0.03531635 -0.01879068]\n",
            "  [ 0.03531635 -0.01879068]]\n",
            "\n",
            " [[-0.02486453 -0.03242819]\n",
            "  [ 0.04441664  0.01511158]\n",
            "  [-0.02486453 -0.03242819]\n",
            "  [ 0.0254714   0.03154382]\n",
            "  [-0.02486453 -0.03242819]]\n",
            "\n",
            " [[-0.04011302 -0.00992996]\n",
            "  [ 0.02249539 -0.01525316]\n",
            "  [ 0.03307484 -0.01799235]\n",
            "  [-0.01565104  0.01738249]\n",
            "  [ 0.03531635 -0.01879068]]\n",
            "\n",
            " [[-0.02554873  0.01667063]\n",
            "  [-0.02554873  0.01667063]\n",
            "  [ 0.03531635 -0.01879068]\n",
            "  [ 0.03531635 -0.01879068]\n",
            "  [ 0.03531635 -0.01879068]]\n",
            "\n",
            " [[-0.01662321 -0.02762424]\n",
            "  [-0.01662321 -0.02762424]\n",
            "  [ 0.03531635 -0.01879068]\n",
            "  [ 0.03531635 -0.01879068]\n",
            "  [ 0.03531635 -0.01879068]]\n",
            "\n",
            " [[-0.03451985  0.01186375]\n",
            "  [-0.03451985  0.01186375]\n",
            "  [ 0.03531635 -0.01879068]\n",
            "  [ 0.03531635 -0.01879068]\n",
            "  [ 0.03531635 -0.01879068]]\n",
            "\n",
            " [[ 0.00793719 -0.0402302 ]\n",
            "  [-0.01757219  0.02042139]\n",
            "  [ 0.03307484 -0.01799235]\n",
            "  [-0.01565104  0.01738249]\n",
            "  [ 0.03531635 -0.01879068]]\n",
            "\n",
            " [[-0.03453391 -0.04291525]\n",
            "  [-0.04548725  0.00847126]\n",
            "  [ 0.03531635 -0.01879068]\n",
            "  [ 0.03531635 -0.01879068]\n",
            "  [ 0.03531635 -0.01879068]]]\n"
          ]
        }
      ]
    },
    {
      "cell_type": "code",
      "source": [
        "# Build the SimpleRNN model using embedded data"
      ],
      "metadata": {
        "id": "IrNx_2yW7kMf"
      },
      "execution_count": 42,
      "outputs": []
    },
    {
      "cell_type": "code",
      "source": [
        "#load imdb data\n",
        "(X_train,y_train), (X_test,y_test) = imdb.load_data()"
      ],
      "metadata": {
        "id": "Sjtzxew34d9-"
      },
      "execution_count": 43,
      "outputs": []
    },
    {
      "cell_type": "code",
      "source": [
        "X_train[0][:10]"
      ],
      "metadata": {
        "colab": {
          "base_uri": "https://localhost:8080/"
        },
        "outputId": "4dcdf82d-0170-453e-9945-ef250e172ca1",
        "id": "1cXTVtp74d9-"
      },
      "execution_count": 44,
      "outputs": [
        {
          "output_type": "execute_result",
          "data": {
            "text/plain": [
              "[1, 14, 22, 16, 43, 530, 973, 1622, 1385, 65]"
            ]
          },
          "metadata": {},
          "execution_count": 44
        }
      ]
    },
    {
      "cell_type": "code",
      "source": [
        "# find max length of sentence\n",
        "max_len = len(X_train[0])\n",
        "print('max_length[0] = {}'.format(max_len))\n",
        "for i in range(len(X_train)):\n",
        "  if max_len< len(X_train[i]):\n",
        "    max_len= len(X_train[i])\n",
        "print('max_length = {}'.format(max_len))"
      ],
      "metadata": {
        "colab": {
          "base_uri": "https://localhost:8080/"
        },
        "outputId": "462379ca-0978-4c36-e5cd-acbd8094f618",
        "id": "laemNeMk4d9-"
      },
      "execution_count": 45,
      "outputs": [
        {
          "output_type": "stream",
          "name": "stdout",
          "text": [
            "max_length[0] = 218\n",
            "max_length = 2494\n"
          ]
        }
      ]
    },
    {
      "cell_type": "code",
      "source": [
        "X_train = pad_sequences(X_train,padding='post',maxlen=50)\n",
        "X_test = pad_sequences(X_test,padding='post',maxlen=50)\n",
        "X_train[0]"
      ],
      "metadata": {
        "colab": {
          "base_uri": "https://localhost:8080/"
        },
        "outputId": "ccec8775-c4b6-41ff-d4b0-8fddc8dbe5e2",
        "id": "dy4E_1S14d9_"
      },
      "execution_count": 46,
      "outputs": [
        {
          "output_type": "execute_result",
          "data": {
            "text/plain": [
              "array([2071,   56,   26,  141,    6,  194, 7486,   18,    4,  226,   22,\n",
              "         21,  134,  476,   26,  480,    5,  144,   30, 5535,   18,   51,\n",
              "         36,   28,  224,   92,   25,  104,    4,  226,   65,   16,   38,\n",
              "       1334,   88,   12,   16,  283,    5,   16, 4472,  113,  103,   32,\n",
              "         15,   16, 5345,   19,  178,   32], dtype=int32)"
            ]
          },
          "metadata": {},
          "execution_count": 46
        }
      ]
    },
    {
      "cell_type": "code",
      "source": [
        "print(X_train.shape,X_test.shape)"
      ],
      "metadata": {
        "colab": {
          "base_uri": "https://localhost:8080/"
        },
        "id": "pHwbl3zD84IK",
        "outputId": "760d64ca-88fb-4dcb-83e6-36740c553c25"
      },
      "execution_count": 47,
      "outputs": [
        {
          "output_type": "stream",
          "name": "stdout",
          "text": [
            "(25000, 50) (25000, 50)\n"
          ]
        }
      ]
    },
    {
      "cell_type": "code",
      "source": [
        "#Build a simple RNN model on this embedded data\n",
        "# Add Embedding layer to convert each word into 2 dim vector\n",
        "# Add a layer of SimpleRNN,\n",
        "# input shape will be (50,1) as max_length of input is set as 50\n",
        "# retyrn_sequences will be False as output after every timestamp is not required. [This is required in Entity recognition or Language translation]\n",
        "\n",
        "model = Sequential()\n",
        "\n",
        "model.add(Embedding(100000, output_dim=2,input_length=50))\n",
        "model.add(SimpleRNN(32,return_sequences=False))\n",
        "model.add(Dense(1,activation='sigmoid')) # as this is a binary classification problem\n",
        "\n",
        "model.summary()"
      ],
      "metadata": {
        "colab": {
          "base_uri": "https://localhost:8080/"
        },
        "outputId": "31ca2489-c8af-47f5-ec7c-31656cccf14a",
        "id": "ea___R9c4d9_"
      },
      "execution_count": 51,
      "outputs": [
        {
          "output_type": "stream",
          "name": "stdout",
          "text": [
            "Model: \"sequential_5\"\n",
            "_________________________________________________________________\n",
            " Layer (type)                Output Shape              Param #   \n",
            "=================================================================\n",
            " embedding_5 (Embedding)     (None, 50, 2)             200000    \n",
            "                                                                 \n",
            " simple_rnn_2 (SimpleRNN)    (None, 32)                1120      \n",
            "                                                                 \n",
            " dense_2 (Dense)             (None, 1)                 33        \n",
            "                                                                 \n",
            "=================================================================\n",
            "Total params: 201153 (785.75 KB)\n",
            "Trainable params: 201153 (785.75 KB)\n",
            "Non-trainable params: 0 (0.00 Byte)\n",
            "_________________________________________________________________\n"
          ]
        }
      ]
    },
    {
      "cell_type": "code",
      "source": [
        "X_test[0]"
      ],
      "metadata": {
        "colab": {
          "base_uri": "https://localhost:8080/"
        },
        "outputId": "14bc7ebf-cb7e-4fd1-fe1a-51a8c130eb9b",
        "id": "edz01Mgl4d-A"
      },
      "execution_count": 52,
      "outputs": [
        {
          "output_type": "execute_result",
          "data": {
            "text/plain": [
              "array([  394,   354,     4,   123,     9,  1035,  1035,  1035,    10,\n",
              "          10,    13,    92,   124,    89,   488,  7944,   100,    28,\n",
              "        1668,    14,    31,    23,    27,  7479,    29,   220,   468,\n",
              "           8,   124,    14,   286,   170,     8,   157,    46,     5,\n",
              "          27,   239,    16,   179, 15387,    38,    32,    25,  7944,\n",
              "         451,   202,    14,     6,   717], dtype=int32)"
            ]
          },
          "metadata": {},
          "execution_count": 52
        }
      ]
    },
    {
      "cell_type": "code",
      "source": [
        "model.compile(optimizer='adam', loss='binary_crossentropy', metrics=['acc'])\n",
        "history = model.fit(X_train, y_train,epochs=5,validation_data=(X_test,y_test))"
      ],
      "metadata": {
        "colab": {
          "base_uri": "https://localhost:8080/"
        },
        "id": "KjcjHahn_6Rv",
        "outputId": "8b721e20-4998-4d27-ee49-efcfc2571da3"
      },
      "execution_count": 53,
      "outputs": [
        {
          "output_type": "stream",
          "name": "stdout",
          "text": [
            "Epoch 1/5\n",
            "782/782 [==============================] - 17s 20ms/step - loss: 0.6796 - acc: 0.5566 - val_loss: 0.5700 - val_acc: 0.7155\n",
            "Epoch 2/5\n",
            "782/782 [==============================] - 14s 18ms/step - loss: 0.4264 - acc: 0.8022 - val_loss: 0.4255 - val_acc: 0.8063\n",
            "Epoch 3/5\n",
            "782/782 [==============================] - 17s 21ms/step - loss: 0.2635 - acc: 0.8954 - val_loss: 0.5054 - val_acc: 0.8005\n",
            "Epoch 4/5\n",
            "782/782 [==============================] - 17s 22ms/step - loss: 0.1688 - acc: 0.9373 - val_loss: 0.5369 - val_acc: 0.7905\n",
            "Epoch 5/5\n",
            "782/782 [==============================] - 17s 22ms/step - loss: 0.1137 - acc: 0.9610 - val_loss: 0.7373 - val_acc: 0.7853\n"
          ]
        }
      ]
    },
    {
      "cell_type": "code",
      "source": [
        "import matplotlib.pyplot as plt\n",
        "plt.plot(history.history['loss'],label='train')\n",
        "plt.plot(history.history['val_loss'],label='test')\n",
        "plt.legend()\n",
        "plt.show()"
      ],
      "metadata": {
        "colab": {
          "base_uri": "https://localhost:8080/",
          "height": 429
        },
        "outputId": "9d8efe96-45ac-49a5-82ab-5dbc41f24936",
        "id": "EldtzVEi4d-B"
      },
      "execution_count": 54,
      "outputs": [
        {
          "output_type": "display_data",
          "data": {
            "text/plain": [
              "<Figure size 640x480 with 1 Axes>"
            ],
            "image/png": "[encoded data removed]"
          },
          "metadata": {}
        }
      ]
    },
    {
      "cell_type": "code",
      "source": [
        "import matplotlib.pyplot as plt\n",
        "plt.plot(history.history['acc'],label='train')\n",
        "plt.plot(history.history['val_acc'],label='test')\n",
        "plt.legend()\n",
        "plt.show()"
      ],
      "metadata": {
        "colab": {
          "base_uri": "https://localhost:8080/",
          "height": 429
        },
        "outputId": "a70e75be-f176-4d56-af55-8826e4b8e05b",
        "id": "YwXEsE1x4d-B"
      },
      "execution_count": 56,
      "outputs": [
        {
          "output_type": "display_data",
          "data": {
            "text/plain": [
              "<Figure size 640x480 with 1 Axes>"
            ],
            "image/png": "[encoded data removed]"
          },
          "metadata": {}
        }
      ]
    },
    {
      "cell_type": "code",
      "source": [],
      "metadata": {
        "id": "ZtXGhIOZ3lbb"
      },
      "execution_count": null,
      "outputs": []
    }
  ]
}